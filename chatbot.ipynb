{
  "nbformat": 4,
  "nbformat_minor": 0,
  "metadata": {
    "colab": {
      "name": "chatbot.ipynb",
      "provenance": [],
      "collapsed_sections": [],
      "authorship_tag": "ABX9TyNX2sDkvQohFbbVK2AzLf4P",
      "include_colab_link": true
    },
    "kernelspec": {
      "name": "python3",
      "display_name": "Python 3"
    }
  },
  "cells": [
    {
      "cell_type": "markdown",
      "metadata": {
        "id": "view-in-github",
        "colab_type": "text"
      },
      "source": [
        "<a href=\"https://colab.research.google.com/github/memetics19/Basic_chatbot-/blob/master/chatbot.ipynb\" target=\"_parent\"><img src=\"https://colab.research.google.com/assets/colab-badge.svg\" alt=\"Open In Colab\"/></a>"
      ]
    },
    {
      "cell_type": "code",
      "metadata": {
        "id": "5s_HIWWKJ2hG",
        "colab_type": "code",
        "colab": {}
      },
      "source": [
        "import nltk\n",
        "from nltk.chat.util import Chat,reflections\n",
        "from nltk.tokenize.casual import TweetTokenizer"
      ],
      "execution_count": 0,
      "outputs": []
    },
    {
      "cell_type": "code",
      "metadata": {
        "id": "XgwzmvXmJ_bC",
        "colab_type": "code",
        "outputId": "ade8a4fd-b65a-476c-f998-1a12072dcda9",
        "colab": {
          "base_uri": "https://localhost:8080/",
          "height": 34
        }
      },
      "source": [
        "print(Chat)"
      ],
      "execution_count": 2,
      "outputs": [
        {
          "output_type": "stream",
          "text": [
            "<class 'nltk.chat.util.Chat'>\n"
          ],
          "name": "stdout"
        }
      ]
    },
    {
      "cell_type": "code",
      "metadata": {
        "id": "Aj6G_sgGVg4u",
        "colab_type": "code",
        "colab": {}
      },
      "source": [
        "def emoji(string):\n",
        "    emoji_pattern = re.compile(\"[\"\n",
        "                           u\"\\U0001F600-\\U0001F64F\"  # emoticons\n",
        "                           u\"\\U0001F300-\\U0001F5FF\"  # symbols & pictographs\n",
        "                           u\"\\U0001F680-\\U0001F6FF\"  # transport & map symbols\n",
        "                           u\"\\U0001F1E0-\\U0001F1FF\"  # flags (iOS)\n",
        "                           u\"\\U00002702-\\U000027B0\"\n",
        "                           u\"\\U000024C2-\\U0001F251\"\n",
        "                           \"]+\", flags=re.UNICODE)\n",
        "    return emoji_pattern.sub(r'', string)"
      ],
      "execution_count": 0,
      "outputs": []
    },
    {
      "cell_type": "code",
      "metadata": {
        "id": "JO-9hZ9rKTji",
        "colab_type": "code",
        "colab": {}
      },
      "source": [
        "set_pairs = [\n",
        "    [\n",
        "        r\"my name is memetics\",\n",
        "        [\"Hello %1, How are you doing today ?\\U0001F251\",]\n",
        "    ],\n",
        "    [\n",
        "        r\"hi|hey|hello\",\n",
        "        [\"Hello\", \"Hey there\",]\n",
        "    ], \n",
        "    [\n",
        "        r\"what is your name?\",\n",
        "        [\"You can call me memetics ?\",]\n",
        "    ],\n",
        "    [\n",
        "        r\"how are you ?\",\n",
        "        [\"I am fine, thank you! How can i help you?\",]\n",
        "    ],\n",
        "    [\n",
        "        r\"I am fine, thank you\",\n",
        "        [\"great to hear that, how can i help you?\",]\n",
        "    ],\n",
        "    [\n",
        "        r\"how can i help you? \",\n",
        "        [\"i am looking for online guides and courses to learn data science, can you suggest?\", \"i am looking for data science training platforms\",]\n",
        "    ],\n",
        "    [\n",
        "        r\"i'm (.*) doing good\",\n",
        "        [\"That's great to hear\",\"How can i help you?:)\",]\n",
        "    ],\n",
        "    [\n",
        "        r\"why dont you become siri\",\n",
        "        [\"i like to become siri, but i'm memetics \\U0001F600\",]\n",
        "    ],\n",
        "    [\n",
        "     r\"i'm bored\",\n",
        "     [\"okay let's have some fun right?\"]\n",
        "    ],\n",
        "    [\n",
        "        r\"hey where are you\",\n",
        "        [\"i'm everyewhere\",]\n",
        "    ],\n",
        "    [\n",
        "        r\"(.*) thank you so much, that was helpful\",\n",
        "        [\"Iam happy to help\", \"No problem, you're welcome\",]\n",
        "    ],\n",
        "    [\n",
        "        r\"quit\",\n",
        "    [\"Bye, take care. See you soon \\U0001F610 \",\"It was nice talking to you. See you soon \\U0001F64F\",]\n",
        "],\n",
        "]"
      ],
      "execution_count": 0,
      "outputs": []
    },
    {
      "cell_type": "code",
      "metadata": {
        "id": "Ti-vE4PdK2Mc",
        "colab_type": "code",
        "outputId": "9eb80110-6665-443c-8fb3-d35d7ffee5fa",
        "colab": {
          "base_uri": "https://localhost:8080/",
          "height": 34
        }
      },
      "source": [
        "chat=Chat(set_pairs,reflections)\n",
        "print(chat)"
      ],
      "execution_count": 5,
      "outputs": [
        {
          "output_type": "stream",
          "text": [
            "<nltk.chat.util.Chat object at 0x7fec2e907c18>\n"
          ],
          "name": "stdout"
        }
      ]
    },
    {
      "cell_type": "code",
      "metadata": {
        "id": "_qx6-n5WLDIQ",
        "colab_type": "code",
        "outputId": "5e1b2512-1dad-4060-ed6c-ad0038638401",
        "colab": {
          "base_uri": "https://localhost:8080/",
          "height": 151
        }
      },
      "source": [
        "chat.converse()\n"
      ],
      "execution_count": 6,
      "outputs": [
        {
          "output_type": "stream",
          "text": [
            ">hi \n",
            "Hello\n",
            ">how are you?\n",
            "I am fine, thank you! How can i help you?\n",
            ">is this memetics?\n",
            "None\n",
            ">quit\n",
            "It was nice talking to you. See you soon 🙏\n"
          ],
          "name": "stdout"
        }
      ]
    }
  ]
}